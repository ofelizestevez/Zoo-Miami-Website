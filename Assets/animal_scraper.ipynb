{
 "cells": [
  {
   "cell_type": "code",
   "execution_count": null,
   "metadata": {},
   "outputs": [],
   "source": [
    "from selenium import webdriver\n",
    "from selenium.webdriver.common.keys import Keys  \n",
    "from selenium.webdriver.chrome.options import Options  \n",
    "\n",
    "chrome_options = Options()  \n",
    "driver = webdriver.Chrome(chrome_options=chrome_options) \n",
    "\n",
    "# Ensure that the full URL path is given\n",
    "URL = 'https://www.zoomiami.org/animals#collection=927'\n",
    "\n",
    "# The following step will launch a browser.\n",
    "driver.get(URL)\n",
    "\n",
    "# Now you can easily read the source HTML\n",
    "HTML = driver.page_source "
   ]
  }
 ],
 "metadata": {
  "interpreter": {
   "hash": "b893e444e619e70b2cf399b639be411f8879b6bd72449a06e4d1173d8380f2c2"
  },
  "kernelspec": {
   "display_name": "Python 3.9.7 64-bit ('base': conda)",
   "language": "python",
   "name": "python3"
  },
  "language_info": {
   "codemirror_mode": {
    "name": "ipython",
    "version": 3
   },
   "file_extension": ".py",
   "mimetype": "text/x-python",
   "name": "python",
   "nbconvert_exporter": "python",
   "pygments_lexer": "ipython3",
   "version": "3.9.7"
  },
  "orig_nbformat": 4
 },
 "nbformat": 4,
 "nbformat_minor": 2
}
